{
 "cells": [
  {
   "cell_type": "code",
   "execution_count": null,
   "metadata": {},
   "outputs": [],
   "source": [
    "def get_weights(model_xml):\n",
    "    from openvino.inference_engine import IECore\n",
    "    ie = IECore()\n",
    "    model_bin = model_xml.replace('xml', 'bin')\n",
    "    net = ie.read_network(model=model_xml, weights=model_bin)\n",
    "    weights = []\n",
    "    for k in net.layers.keys():\n",
    "        #print(k, net.layers[k].shape)\n",
    "        if 'weights' in net.layers[k].weights:\n",
    "            l = net.layers[k]\n",
    "            w = l.weights['weights']\n",
    "            #print(k, l.shape, w.shape)\n",
    "            weights.append(w)\n",
    "    return weights\n",
    "\n",
    "def weight_hist(model_xml):\n",
    "    import numpy as np\n",
    "    import matplotlib.pyplot as plt\n",
    "    weights = get_weights(model_xml)\n",
    "    w = np.concatenate(weights)\n",
    "\n",
    "    hist, bins, _ = plt.hist(w, bins=50)\n",
    "    plt.cla()\n",
    "    logbins = np.linspace(np.mean(w) - 3*np.std(w), np.mean(w) + 3*np.std(w),len(bins))\n",
    "\n",
    "    plt.hist(w, bins=logbins)\n",
    "    sparsity = 100*np.sum(w == 0)/w.flatten().shape[0]\n",
    "    plt.title('%s histogram sparsity=%0.3f%%' % (model_xml, sparsity))\n",
    "    plt.show()"
   ]
  },
  {
   "cell_type": "code",
   "execution_count": null,
   "metadata": {},
   "outputs": [],
   "source": [
    "model_xml = 'model32.xml'\n",
    "weight_hist(model_xml)"
   ]
  },
  {
   "cell_type": "code",
   "execution_count": null,
   "metadata": {},
   "outputs": [],
   "source": []
  }
 ],
 "metadata": {
  "kernelspec": {
   "display_name": "Python 3",
   "language": "python",
   "name": "python3"
  },
  "language_info": {
   "codemirror_mode": {
    "name": "ipython",
    "version": 3
   },
   "file_extension": ".py",
   "mimetype": "text/x-python",
   "name": "python",
   "nbconvert_exporter": "python",
   "pygments_lexer": "ipython3",
   "version": "3.6.9"
  }
 },
 "nbformat": 4,
 "nbformat_minor": 2
}
