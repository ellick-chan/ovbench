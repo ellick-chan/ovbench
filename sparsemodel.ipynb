{
 "cells": [
  {
   "cell_type": "code",
   "execution_count": null,
   "metadata": {},
   "outputs": [],
   "source": [
    "from openvino.inference_engine import IECore\n",
    "model_xml = 'model32.xml'\n",
    "model_bin = 'model32.bin'\n",
    "ie = IECore()\n",
    "net = ie.read_network(model=model_xml, weights=model_bin)"
   ]
  },
  {
   "cell_type": "code",
   "execution_count": null,
   "metadata": {},
   "outputs": [],
   "source": [
    "import matplotlib.pyplot as plt"
   ]
  },
  {
   "cell_type": "markdown",
   "metadata": {},
   "source": [
    "model_xml = 'model32.xml'\n",
    "model_bin = 'model32.bin'"
   ]
  },
  {
   "cell_type": "code",
   "execution_count": null,
   "metadata": {},
   "outputs": [],
   "source": [
    "for k in net.layers.keys():\n",
    "    #print(k, net.layers[k].shape)\n",
    "    if 'weights' in net.layers[k].weights:\n",
    "        print(k, net.layers[k].shape, net.layers[k].weights['weights'].shape)\n",
    "        fig = plt.Figure((5,1))\n",
    "        plt.hist(net.layers[k].weights['weights'])\n",
    "        plt.show()"
   ]
  },
  {
   "cell_type": "code",
   "execution_count": null,
   "metadata": {},
   "outputs": [],
   "source": []
  }
 ],
 "metadata": {
  "kernelspec": {
   "display_name": "Python 3",
   "language": "python",
   "name": "python3"
  },
  "language_info": {
   "codemirror_mode": {
    "name": "ipython",
    "version": 3
   },
   "file_extension": ".py",
   "mimetype": "text/x-python",
   "name": "python",
   "nbconvert_exporter": "python",
   "pygments_lexer": "ipython3",
   "version": "3.6.9"
  }
 },
 "nbformat": 4,
 "nbformat_minor": 2
}
