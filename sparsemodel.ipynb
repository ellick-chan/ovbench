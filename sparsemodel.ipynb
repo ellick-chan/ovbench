{
 "cells": [
  {
   "cell_type": "code",
   "execution_count": null,
   "metadata": {},
   "outputs": [],
   "source": [
    "def get_weights(model_xml, as_dict=False):\n",
    "    from openvino.inference_engine import IECore\n",
    "    ie = IECore()\n",
    "    model_bin = model_xml.replace('xml', 'bin')\n",
    "    net = ie.read_network(model=model_xml, weights=model_bin)\n",
    "    weights = []\n",
    "    ldict   = {}\n",
    "    for k in net.layers.keys():\n",
    "        #print(k, net.layers[k].shape)\n",
    "        if 'weights' in net.layers[k].weights:\n",
    "            l = net.layers[k]\n",
    "            w = l.weights['weights']\n",
    "            #print(k, l.shape, w.shape)\n",
    "            weights.append(w)\n",
    "            ldict[k] = l\n",
    "    if as_dict: return ldict\n",
    "    return weights\n",
    "\n",
    "def calc_sparsity(w):\n",
    "    import numpy as np\n",
    "    return np.sum(w == 0)/w.flatten().shape[0]\n",
    "\n",
    "def weight_hist(model_xml):\n",
    "    import numpy as np\n",
    "    import matplotlib.pyplot as plt\n",
    "    weights = get_weights(model_xml)\n",
    "    w = np.concatenate(weights)\n",
    "\n",
    "    hist, bins, _ = plt.hist(w, bins=50)\n",
    "    plt.cla()\n",
    "    logbins = np.linspace(np.mean(w) - 3*np.std(w), np.mean(w) + 3*np.std(w),len(bins))\n",
    "\n",
    "    plt.hist(w, bins=logbins)\n",
    "    sparsity = 100*calc_sparsity(w)\n",
    "    plt.yscale('log', nonposy='clip')\n",
    "    plt.title('%s histogram sparsity=%0.3f%%' % (model_xml, sparsity))\n",
    "    plt.show()\n",
    "    \n",
    "def sparse_summary(model_xml, threshold=0):\n",
    "    for k, l in get_weights(model_xml, as_dict=True).items():\n",
    "        w = l.weights['weights']\n",
    "        s = calc_sparsity(w)\n",
    "        if s > threshold:\n",
    "            print(k, l.shape, w.shape, 'Sparsity: %0.2f' % calc_sparsity(w))"
   ]
  },
  {
   "cell_type": "code",
   "execution_count": null,
   "metadata": {},
   "outputs": [],
   "source": [
    "# Show overall weights\n",
    "#model_xml = 'model32.xml'\n",
    "model_xml = 'intel/resnet-50-int8-sparse-v1-tf-0001.xml'\n",
    "weight_hist(model_xml)"
   ]
  },
  {
   "cell_type": "code",
   "execution_count": null,
   "metadata": {},
   "outputs": [],
   "source": [
    "sparse_summary(model_xml, 0.3)"
   ]
  },
  {
   "cell_type": "code",
   "execution_count": null,
   "metadata": {},
   "outputs": [],
   "source": [
    "def sparse_weight_viz(model_xml, threshold=0):\n",
    "    import matplotlib.pyplot as plt\n",
    "    import numpy as np\n",
    "    for k, l in get_weights(model_xml, as_dict=True).items():\n",
    "        w = l.weights['weights']\n",
    "        s = calc_sparsity(w)\n",
    "        if s > threshold:\n",
    "            print(k, l.shape, w.shape, 'Sparsity: %0.2f' % calc_sparsity(w))\n",
    "            sz = int(np.ceil(np.sqrt(w.shape)))\n",
    "            img = np.zeros((sz*sz))\n",
    "            img[:w.shape[0]] = w\n",
    "            img = np.reshape(img, (sz, sz))\n",
    "            mask = img == 0\n",
    "            img[mask] = 1\n",
    "            img[~mask] = 0\n",
    "            plt.imshow(img, cmap='gray')\n",
    "            plt.show()\n",
    "            print(img.shape, img.min(), img.mean(), img.max())"
   ]
  },
  {
   "cell_type": "code",
   "execution_count": null,
   "metadata": {},
   "outputs": [],
   "source": [
    "sparse_weight_viz(model_xml, 0.3)"
   ]
  },
  {
   "cell_type": "code",
   "execution_count": null,
   "metadata": {},
   "outputs": [],
   "source": []
  }
 ],
 "metadata": {
  "kernelspec": {
   "display_name": "Python 3",
   "language": "python",
   "name": "python3"
  },
  "language_info": {
   "codemirror_mode": {
    "name": "ipython",
    "version": 3
   },
   "file_extension": ".py",
   "mimetype": "text/x-python",
   "name": "python",
   "nbconvert_exporter": "python",
   "pygments_lexer": "ipython3",
   "version": "3.6.9"
  }
 },
 "nbformat": 4,
 "nbformat_minor": 2
}
