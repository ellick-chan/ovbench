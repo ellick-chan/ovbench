{
 "cells": [
  {
   "cell_type": "code",
   "execution_count": 24,
   "metadata": {},
   "outputs": [],
   "source": [
    "!grep layerType benchmark.log > tee benchmark.csv"
   ]
  },
  {
   "cell_type": "code",
   "execution_count": 25,
   "metadata": {},
   "outputs": [],
   "source": [
    "import pandas as pd"
   ]
  },
  {
   "cell_type": "code",
   "execution_count": 56,
   "metadata": {},
   "outputs": [],
   "source": [
    "logdata = pd.read_csv('benchmark.csv', sep='\\s+', names=['Name', 'Exec', 'L_', 'OpType', 'R_', 'Real Time', 'C_', 'CPU Time', 'E_', 'ExecType'])"
   ]
  },
  {
   "cell_type": "code",
   "execution_count": 57,
   "metadata": {},
   "outputs": [],
   "source": [
    "logdata = logdata.drop(columns=['L_', 'R_', 'C_', 'E_'])"
   ]
  },
  {
   "cell_type": "code",
   "execution_count": 58,
   "metadata": {},
   "outputs": [
    {
     "data": {
      "text/html": [
       "<div>\n",
       "<style scoped>\n",
       "    .dataframe tbody tr th:only-of-type {\n",
       "        vertical-align: middle;\n",
       "    }\n",
       "\n",
       "    .dataframe tbody tr th {\n",
       "        vertical-align: top;\n",
       "    }\n",
       "\n",
       "    .dataframe thead th {\n",
       "        text-align: right;\n",
       "    }\n",
       "</style>\n",
       "<table border=\"1\" class=\"dataframe\">\n",
       "  <thead>\n",
       "    <tr style=\"text-align: right;\">\n",
       "      <th></th>\n",
       "      <th>Name</th>\n",
       "      <th>Exec</th>\n",
       "      <th>OpType</th>\n",
       "      <th>Real Time</th>\n",
       "      <th>CPU Time</th>\n",
       "      <th>ExecType</th>\n",
       "    </tr>\n",
       "  </thead>\n",
       "  <tbody>\n",
       "    <tr>\n",
       "      <th>0</th>\n",
       "      <td>input_1_U8_FP32_conv1/Conv2D</td>\n",
       "      <td>EXECUTED</td>\n",
       "      <td>Reorder</td>\n",
       "      <td>117</td>\n",
       "      <td>117</td>\n",
       "      <td>jit_uni_I8</td>\n",
       "    </tr>\n",
       "    <tr>\n",
       "      <th>1</th>\n",
       "      <td>conv1/Conv2D</td>\n",
       "      <td>EXECUTED</td>\n",
       "      <td>Convolution</td>\n",
       "      <td>5280</td>\n",
       "      <td>5280</td>\n",
       "      <td>jit_avx2_FP32</td>\n",
       "    </tr>\n",
       "    <tr>\n",
       "      <th>2</th>\n",
       "      <td>activation/Relu</td>\n",
       "      <td>NOT_RUN</td>\n",
       "      <td>ReLU</td>\n",
       "      <td>0</td>\n",
       "      <td>0</td>\n",
       "      <td>undef</td>\n",
       "    </tr>\n",
       "    <tr>\n",
       "      <th>3</th>\n",
       "      <td>max_pooling2d/MaxPool</td>\n",
       "      <td>EXECUTED</td>\n",
       "      <td>Pooling</td>\n",
       "      <td>817</td>\n",
       "      <td>817</td>\n",
       "      <td>jit_avx_FP32</td>\n",
       "    </tr>\n",
       "    <tr>\n",
       "      <th>4</th>\n",
       "      <td>res2a_branch1/Conv2D</td>\n",
       "      <td>EXECUTED</td>\n",
       "      <td>Convolution</td>\n",
       "      <td>2492</td>\n",
       "      <td>2492</td>\n",
       "      <td>jit_avx2_1x1_FP32</td>\n",
       "    </tr>\n",
       "    <tr>\n",
       "      <th>...</th>\n",
       "      <td>...</td>\n",
       "      <td>...</td>\n",
       "      <td>...</td>\n",
       "      <td>...</td>\n",
       "      <td>...</td>\n",
       "      <td>...</td>\n",
       "    </tr>\n",
       "    <tr>\n",
       "      <th>511</th>\n",
       "      <td>avg_pool/Mean/Pool_nChw8c_...</td>\n",
       "      <td>EXECUTED</td>\n",
       "      <td>Reorder</td>\n",
       "      <td>64</td>\n",
       "      <td>64</td>\n",
       "      <td>jit_uni_FP32</td>\n",
       "    </tr>\n",
       "    <tr>\n",
       "      <th>512</th>\n",
       "      <td>avg_pool/Mean/FinalReshape</td>\n",
       "      <td>EXECUTED</td>\n",
       "      <td>Reshape</td>\n",
       "      <td>12</td>\n",
       "      <td>12</td>\n",
       "      <td>unknown_FP32</td>\n",
       "    </tr>\n",
       "    <tr>\n",
       "      <th>513</th>\n",
       "      <td>fc1000/MatMul</td>\n",
       "      <td>EXECUTED</td>\n",
       "      <td>FullyConnected</td>\n",
       "      <td>1021</td>\n",
       "      <td>1021</td>\n",
       "      <td>gemm_blas_FP32</td>\n",
       "    </tr>\n",
       "    <tr>\n",
       "      <th>514</th>\n",
       "      <td>fc1000/Softmax</td>\n",
       "      <td>EXECUTED</td>\n",
       "      <td>SoftMax</td>\n",
       "      <td>32</td>\n",
       "      <td>32</td>\n",
       "      <td>ref_any_FP32</td>\n",
       "    </tr>\n",
       "    <tr>\n",
       "      <th>515</th>\n",
       "      <td>out_fc1000/Softmax</td>\n",
       "      <td>EXECUTED</td>\n",
       "      <td>Output</td>\n",
       "      <td>13</td>\n",
       "      <td>13</td>\n",
       "      <td>unknown_FP32</td>\n",
       "    </tr>\n",
       "  </tbody>\n",
       "</table>\n",
       "<p>516 rows × 6 columns</p>\n",
       "</div>"
      ],
      "text/plain": [
       "                              Name      Exec          OpType  Real Time  \\\n",
       "0     input_1_U8_FP32_conv1/Conv2D  EXECUTED         Reorder        117   \n",
       "1                     conv1/Conv2D  EXECUTED     Convolution       5280   \n",
       "2                  activation/Relu   NOT_RUN            ReLU          0   \n",
       "3            max_pooling2d/MaxPool  EXECUTED         Pooling        817   \n",
       "4             res2a_branch1/Conv2D  EXECUTED     Convolution       2492   \n",
       "..                             ...       ...             ...        ...   \n",
       "511  avg_pool/Mean/Pool_nChw8c_...  EXECUTED         Reorder         64   \n",
       "512     avg_pool/Mean/FinalReshape  EXECUTED         Reshape         12   \n",
       "513                  fc1000/MatMul  EXECUTED  FullyConnected       1021   \n",
       "514                 fc1000/Softmax  EXECUTED         SoftMax         32   \n",
       "515             out_fc1000/Softmax  EXECUTED          Output         13   \n",
       "\n",
       "     CPU Time           ExecType  \n",
       "0         117         jit_uni_I8  \n",
       "1        5280      jit_avx2_FP32  \n",
       "2           0              undef  \n",
       "3         817       jit_avx_FP32  \n",
       "4        2492  jit_avx2_1x1_FP32  \n",
       "..        ...                ...  \n",
       "511        64       jit_uni_FP32  \n",
       "512        12       unknown_FP32  \n",
       "513      1021     gemm_blas_FP32  \n",
       "514        32       ref_any_FP32  \n",
       "515        13       unknown_FP32  \n",
       "\n",
       "[516 rows x 6 columns]"
      ]
     },
     "execution_count": 58,
     "metadata": {},
     "output_type": "execute_result"
    }
   ],
   "source": [
    "logdata"
   ]
  },
  {
   "cell_type": "code",
   "execution_count": 85,
   "metadata": {},
   "outputs": [
    {
     "data": {
      "text/plain": [
       "<matplotlib.axes._subplots.AxesSubplot at 0x120804e10>"
      ]
     },
     "execution_count": 85,
     "metadata": {},
     "output_type": "execute_result"
    },
    {
     "data": {
      "image/png": "[encoded data removed]",
      "text/plain": [
       "<Figure size 432x288 with 1 Axes>"
      ]
     },
     "metadata": {
      "needs_background": "light"
     },
     "output_type": "display_data"
    }
   ],
   "source": [
    "logdata.groupby('Name').sum()['Real Time'].sort_values(ascending=False)[:10].plot.barh()"
   ]
  },
  {
   "cell_type": "code",
   "execution_count": 77,
   "metadata": {},
   "outputs": [],
   "source": [
    "t=logdata.groupby('Name').sum()['Real Time']"
   ]
  },
  {
   "cell_type": "code",
   "execution_count": null,
   "metadata": {},
   "outputs": [],
   "source": []
  }
 ],
 "metadata": {
  "kernelspec": {
   "display_name": "Python 3",
   "language": "python",
   "name": "python3"
  },
  "language_info": {
   "codemirror_mode": {
    "name": "ipython",
    "version": 3
   },
   "file_extension": ".py",
   "mimetype": "text/x-python",
   "name": "python",
   "nbconvert_exporter": "python",
   "pygments_lexer": "ipython3",
   "version": "3.7.6"
  }
 },
 "nbformat": 4,
 "nbformat_minor": 4
}
